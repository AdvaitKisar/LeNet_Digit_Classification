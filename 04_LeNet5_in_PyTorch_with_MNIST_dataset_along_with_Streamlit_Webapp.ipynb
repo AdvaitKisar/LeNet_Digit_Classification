{
  "nbformat": 4,
  "nbformat_minor": 0,
  "metadata": {
    "colab": {
      "provenance": []
    },
    "kernelspec": {
      "name": "python3",
      "display_name": "Python 3"
    },
    "language_info": {
      "name": "python"
    }
  },
  "cells": [
    {
      "cell_type": "code",
      "execution_count": null,
      "metadata": {
        "id": "IuAGL4GhwRPk",
        "colab": {
          "base_uri": "https://localhost:8080/"
        },
        "outputId": "99217c86-dddf-4f54-b374-78ba969e5757"
      },
      "outputs": [
        {
          "output_type": "execute_result",
          "data": {
            "text/plain": [
              "<torch._C.Generator at 0x7ff6584e4d10>"
            ]
          },
          "metadata": {},
          "execution_count": 1
        }
      ],
      "source": [
        "# Importing libraries\n",
        "import torch\n",
        "import torch.nn as nn\n",
        "import torchvision.transforms as transforms\n",
        "import torchvision.datasets as dsets\n",
        "from torch.utils.data import Dataset, DataLoader\n",
        "import matplotlib.pyplot as plt\n",
        "import numpy as np\n",
        "torch.manual_seed(0)"
      ]
    },
    {
      "cell_type": "code",
      "source": [
        "train_data = dsets.MNIST(root = './data', train = True, download = True, transform = transforms.ToTensor())\n",
        "test_data = dsets.MNIST(root = './data', train = False, download = True, transform = transforms.ToTensor())\n",
        "print(\"Print the training dataset:\\n \", train_data)\n",
        "print(\"\\nPrint the test dataset:\\n \", test_data)\n",
        "print(train_data.data.type)\n",
        "print(train_data.data.dtype)\n",
        "print(train_data.data.shape)"
      ],
      "metadata": {
        "colab": {
          "base_uri": "https://localhost:8080/"
        },
        "id": "CG4ofGngHUYF",
        "outputId": "04d6ac5c-ec68-4452-9041-a7b0b5cb6b0b"
      },
      "execution_count": null,
      "outputs": [
        {
          "output_type": "stream",
          "name": "stdout",
          "text": [
            "Downloading http://yann.lecun.com/exdb/mnist/train-images-idx3-ubyte.gz\n",
            "Downloading http://yann.lecun.com/exdb/mnist/train-images-idx3-ubyte.gz to ./data/MNIST/raw/train-images-idx3-ubyte.gz\n"
          ]
        },
        {
          "output_type": "stream",
          "name": "stderr",
          "text": [
            "100%|██████████| 9912422/9912422 [00:00<00:00, 100676113.58it/s]\n"
          ]
        },
        {
          "output_type": "stream",
          "name": "stdout",
          "text": [
            "Extracting ./data/MNIST/raw/train-images-idx3-ubyte.gz to ./data/MNIST/raw\n",
            "\n",
            "Downloading http://yann.lecun.com/exdb/mnist/train-labels-idx1-ubyte.gz\n",
            "Downloading http://yann.lecun.com/exdb/mnist/train-labels-idx1-ubyte.gz to ./data/MNIST/raw/train-labels-idx1-ubyte.gz\n"
          ]
        },
        {
          "output_type": "stream",
          "name": "stderr",
          "text": [
            "100%|██████████| 28881/28881 [00:00<00:00, 15360853.90it/s]"
          ]
        },
        {
          "output_type": "stream",
          "name": "stdout",
          "text": [
            "Extracting ./data/MNIST/raw/train-labels-idx1-ubyte.gz to ./data/MNIST/raw\n",
            "\n",
            "Downloading http://yann.lecun.com/exdb/mnist/t10k-images-idx3-ubyte.gz\n",
            "Downloading http://yann.lecun.com/exdb/mnist/t10k-images-idx3-ubyte.gz to ./data/MNIST/raw/t10k-images-idx3-ubyte.gz\n"
          ]
        },
        {
          "output_type": "stream",
          "name": "stderr",
          "text": [
            "\n",
            "100%|██████████| 1648877/1648877 [00:00<00:00, 26702283.38it/s]\n"
          ]
        },
        {
          "output_type": "stream",
          "name": "stdout",
          "text": [
            "Extracting ./data/MNIST/raw/t10k-images-idx3-ubyte.gz to ./data/MNIST/raw\n",
            "\n",
            "Downloading http://yann.lecun.com/exdb/mnist/t10k-labels-idx1-ubyte.gz\n",
            "Downloading http://yann.lecun.com/exdb/mnist/t10k-labels-idx1-ubyte.gz to ./data/MNIST/raw/t10k-labels-idx1-ubyte.gz\n"
          ]
        },
        {
          "output_type": "stream",
          "name": "stderr",
          "text": [
            "100%|██████████| 4542/4542 [00:00<00:00, 14432218.76it/s]\n"
          ]
        },
        {
          "output_type": "stream",
          "name": "stdout",
          "text": [
            "Extracting ./data/MNIST/raw/t10k-labels-idx1-ubyte.gz to ./data/MNIST/raw\n",
            "\n",
            "Print the training dataset:\n",
            "  Dataset MNIST\n",
            "    Number of datapoints: 60000\n",
            "    Root location: ./data\n",
            "    Split: Train\n",
            "    StandardTransform\n",
            "Transform: ToTensor()\n",
            "\n",
            "Print the test dataset:\n",
            "  Dataset MNIST\n",
            "    Number of datapoints: 10000\n",
            "    Root location: ./data\n",
            "    Split: Test\n",
            "    StandardTransform\n",
            "Transform: ToTensor()\n",
            "<built-in method type of Tensor object at 0x7ff59eeb31f0>\n",
            "torch.uint8\n",
            "torch.Size([60000, 28, 28])\n"
          ]
        }
      ]
    },
    {
      "cell_type": "code",
      "source": [
        "train_loader = DataLoader(dataset=train_data, batch_size=100, shuffle=True)\n",
        "test_loader = DataLoader(dataset=test_data, batch_size=100, shuffle=True)"
      ],
      "metadata": {
        "id": "fprpud_uySqT"
      },
      "execution_count": null,
      "outputs": []
    },
    {
      "cell_type": "code",
      "source": [
        "def show_image(idx):\n",
        "  plt.imshow(train_data.data[idx], cmap='gray')\n",
        "  plt.title('y = %i' % train_data.targets[idx])\n",
        "  plt.show()"
      ],
      "metadata": {
        "id": "X7me5q3rTCwk"
      },
      "execution_count": null,
      "outputs": []
    },
    {
      "cell_type": "code",
      "source": [
        "idx = 10\n",
        "show_image(idx)"
      ],
      "metadata": {
        "colab": {
          "base_uri": "https://localhost:8080/",
          "height": 452
        },
        "id": "vvwT4zX7THCL",
        "outputId": "71a45e56-c332-4f4c-8a3c-ea6280b8fd68"
      },
      "execution_count": null,
      "outputs": [
        {
          "output_type": "display_data",
          "data": {
            "text/plain": [
              "<Figure size 640x480 with 1 Axes>"
            ],
            "image/png": "[encoded data removed]"
          },
          "metadata": {}
        }
      ]
    },
    {
      "cell_type": "code",
      "source": [
        "# X_train = torch.stack((train_data.data, train_data.data, train_data.data), axis=1).type(torch.float32)\n",
        "# X_test = torch.stack((test_data.data, test_data.data, test_data.data), axis=1).type(torch.float32)\n",
        "# print(X_train.shape)"
      ],
      "metadata": {
        "id": "kVCUw9JbX9W6"
      },
      "execution_count": null,
      "outputs": []
    },
    {
      "cell_type": "code",
      "source": [
        "class LeNet5(nn.Module):\n",
        "  def __init__(self):\n",
        "    super(LeNet5, self).__init__()\n",
        "    self.conv1 = nn.Conv2d(in_channels=1, out_channels=6, kernel_size=5, stride=1, padding=2)\n",
        "    self.act1 = nn.Tanh()\n",
        "    self.pool1 = nn.AvgPool2d(kernel_size=2, stride=2)\n",
        "\n",
        "    self.conv2 = nn.Conv2d(in_channels=6, out_channels=16, kernel_size=5, stride=1)\n",
        "    self.act2 = nn.Tanh()\n",
        "    self.pool2 = nn.AvgPool2d(kernel_size=2, stride=2)\n",
        "\n",
        "    self.conv3 = nn.Conv2d(in_channels=16, out_channels=120, kernel_size=5, stride=1)\n",
        "    self.act3 = nn.Tanh()\n",
        "\n",
        "    self.flat = nn.Flatten()\n",
        "    self.fc1 = nn.Linear(120, 84)\n",
        "    self.act4 = nn.Tanh()\n",
        "    self.fc2 = nn.Linear(84, 10)\n",
        "\n",
        "  def forward(self, x):\n",
        "    # Input - 1X28X28, Output - 6X28X28\n",
        "    x = self.act1(self.conv1(x))\n",
        "    # Input - 6X28X28, Output - 6X14X14\n",
        "    x = self.pool1(x)\n",
        "    # Input - 6X14X14, Output - 16X10X10\n",
        "    x = self.act2(self.conv2(x))\n",
        "    # Input - 16X10X10, Output - 16X5X5\n",
        "    x = self.pool2(x)\n",
        "    # Input - 16X5X5, Output - 120X1X1\n",
        "    x = self.act3(self.conv3(x))\n",
        "    # Input - 120X1X1, Output - 84\n",
        "    x = self.act4(self.fc1(self.flat(x)))\n",
        "    # Input - 84, Output - 10\n",
        "    x = self.fc2(x)\n",
        "    return x"
      ],
      "metadata": {
        "id": "8gEAjTzTrLij"
      },
      "execution_count": null,
      "outputs": []
    },
    {
      "cell_type": "code",
      "source": [
        "model = LeNet5()"
      ],
      "metadata": {
        "id": "5kJ_oVIqyoXU"
      },
      "execution_count": null,
      "outputs": []
    },
    {
      "cell_type": "code",
      "source": [
        "criterion = nn.CrossEntropyLoss()\n",
        "opt = torch.optim.Adam(model.parameters())"
      ],
      "metadata": {
        "id": "ANcLBpv9LSzt"
      },
      "execution_count": null,
      "outputs": []
    },
    {
      "cell_type": "code",
      "source": [
        "n_epochs = 50\n",
        "N_test = len(test_data)\n",
        "cost_train = []\n",
        "acc_test = []\n",
        "for epoch in range(1, n_epochs+1):\n",
        "  total = 0\n",
        "  for x, y in train_loader:\n",
        "    opt.zero_grad()\n",
        "    y_pred = model(x)\n",
        "    loss = criterion(y_pred, y)\n",
        "    loss.backward()\n",
        "    total += loss.item()\n",
        "    opt.step()\n",
        "  cost_train.append(total)\n",
        "  print(\"Epoch %d: Training Cost = %d\" % (epoch, total))\n",
        "  correct = 0\n",
        "  for x_test, y_test in test_loader:\n",
        "    z = model(x_test)\n",
        "    _, yhat = torch.max(z.data, 1)\n",
        "    correct += (yhat == y_test).sum().item()\n",
        "  accuracy = correct / N_test\n",
        "  acc_test.append(accuracy*100)\n",
        "  print(\"Epoch %d: Model Accuracy on Test Set = %.2f %%\" % (epoch, accuracy*100))"
      ],
      "metadata": {
        "id": "FBnpMlFYDuSn",
        "colab": {
          "base_uri": "https://localhost:8080/"
        },
        "outputId": "b7127c55-ff2f-4932-de9a-c8acf7be4515"
      },
      "execution_count": null,
      "outputs": [
        {
          "output_type": "stream",
          "name": "stdout",
          "text": [
            "Epoch 1: Training Cost = 216\n",
            "Epoch 1: Model Accuracy on Test Set = 95.98 %\n",
            "Epoch 2: Training Cost = 68\n",
            "Epoch 2: Model Accuracy on Test Set = 97.39 %\n",
            "Epoch 3: Training Cost = 44\n",
            "Epoch 3: Model Accuracy on Test Set = 97.78 %\n",
            "Epoch 4: Training Cost = 32\n",
            "Epoch 4: Model Accuracy on Test Set = 98.27 %\n",
            "Epoch 5: Training Cost = 26\n",
            "Epoch 5: Model Accuracy on Test Set = 98.30 %\n",
            "Epoch 6: Training Cost = 21\n",
            "Epoch 6: Model Accuracy on Test Set = 98.51 %\n",
            "Epoch 7: Training Cost = 17\n",
            "Epoch 7: Model Accuracy on Test Set = 98.48 %\n",
            "Epoch 8: Training Cost = 14\n",
            "Epoch 8: Model Accuracy on Test Set = 98.53 %\n",
            "Epoch 9: Training Cost = 13\n",
            "Epoch 9: Model Accuracy on Test Set = 98.67 %\n",
            "Epoch 10: Training Cost = 11\n",
            "Epoch 10: Model Accuracy on Test Set = 98.77 %\n",
            "Epoch 11: Training Cost = 8\n",
            "Epoch 11: Model Accuracy on Test Set = 98.61 %\n",
            "Epoch 12: Training Cost = 8\n",
            "Epoch 12: Model Accuracy on Test Set = 98.75 %\n",
            "Epoch 13: Training Cost = 7\n",
            "Epoch 13: Model Accuracy on Test Set = 98.60 %\n",
            "Epoch 14: Training Cost = 6\n",
            "Epoch 14: Model Accuracy on Test Set = 98.90 %\n",
            "Epoch 15: Training Cost = 5\n",
            "Epoch 15: Model Accuracy on Test Set = 98.58 %\n",
            "Epoch 16: Training Cost = 5\n",
            "Epoch 16: Model Accuracy on Test Set = 98.80 %\n",
            "Epoch 17: Training Cost = 4\n",
            "Epoch 17: Model Accuracy on Test Set = 98.90 %\n",
            "Epoch 18: Training Cost = 4\n",
            "Epoch 18: Model Accuracy on Test Set = 98.92 %\n",
            "Epoch 19: Training Cost = 4\n",
            "Epoch 19: Model Accuracy on Test Set = 98.69 %\n",
            "Epoch 20: Training Cost = 3\n",
            "Epoch 20: Model Accuracy on Test Set = 98.72 %\n",
            "Epoch 21: Training Cost = 4\n",
            "Epoch 21: Model Accuracy on Test Set = 98.74 %\n",
            "Epoch 22: Training Cost = 4\n",
            "Epoch 22: Model Accuracy on Test Set = 98.64 %\n",
            "Epoch 23: Training Cost = 1\n",
            "Epoch 23: Model Accuracy on Test Set = 98.74 %\n",
            "Epoch 24: Training Cost = 2\n",
            "Epoch 24: Model Accuracy on Test Set = 98.69 %\n",
            "Epoch 25: Training Cost = 2\n",
            "Epoch 25: Model Accuracy on Test Set = 98.64 %\n",
            "Epoch 26: Training Cost = 4\n",
            "Epoch 26: Model Accuracy on Test Set = 98.74 %\n",
            "Epoch 27: Training Cost = 2\n",
            "Epoch 27: Model Accuracy on Test Set = 98.87 %\n",
            "Epoch 28: Training Cost = 1\n",
            "Epoch 28: Model Accuracy on Test Set = 98.74 %\n",
            "Epoch 29: Training Cost = 1\n",
            "Epoch 29: Model Accuracy on Test Set = 98.78 %\n",
            "Epoch 30: Training Cost = 3\n",
            "Epoch 30: Model Accuracy on Test Set = 98.79 %\n",
            "Epoch 31: Training Cost = 3\n",
            "Epoch 31: Model Accuracy on Test Set = 98.76 %\n",
            "Epoch 32: Training Cost = 2\n",
            "Epoch 32: Model Accuracy on Test Set = 98.67 %\n",
            "Epoch 33: Training Cost = 1\n",
            "Epoch 33: Model Accuracy on Test Set = 98.84 %\n",
            "Epoch 34: Training Cost = 0\n",
            "Epoch 34: Model Accuracy on Test Set = 98.79 %\n",
            "Epoch 35: Training Cost = 1\n",
            "Epoch 35: Model Accuracy on Test Set = 98.39 %\n",
            "Epoch 36: Training Cost = 5\n",
            "Epoch 36: Model Accuracy on Test Set = 98.78 %\n",
            "Epoch 37: Training Cost = 1\n",
            "Epoch 37: Model Accuracy on Test Set = 98.95 %\n",
            "Epoch 38: Training Cost = 1\n",
            "Epoch 38: Model Accuracy on Test Set = 98.95 %\n",
            "Epoch 39: Training Cost = 0\n",
            "Epoch 39: Model Accuracy on Test Set = 99.13 %\n",
            "Epoch 40: Training Cost = 1\n",
            "Epoch 40: Model Accuracy on Test Set = 98.71 %\n",
            "Epoch 41: Training Cost = 4\n",
            "Epoch 41: Model Accuracy on Test Set = 98.76 %\n",
            "Epoch 42: Training Cost = 1\n",
            "Epoch 42: Model Accuracy on Test Set = 99.00 %\n",
            "Epoch 43: Training Cost = 1\n",
            "Epoch 43: Model Accuracy on Test Set = 98.97 %\n",
            "Epoch 44: Training Cost = 0\n",
            "Epoch 44: Model Accuracy on Test Set = 98.93 %\n",
            "Epoch 45: Training Cost = 3\n",
            "Epoch 45: Model Accuracy on Test Set = 98.76 %\n",
            "Epoch 46: Training Cost = 2\n",
            "Epoch 46: Model Accuracy on Test Set = 98.96 %\n",
            "Epoch 47: Training Cost = 1\n",
            "Epoch 47: Model Accuracy on Test Set = 98.76 %\n",
            "Epoch 48: Training Cost = 1\n",
            "Epoch 48: Model Accuracy on Test Set = 98.91 %\n",
            "Epoch 49: Training Cost = 1\n",
            "Epoch 49: Model Accuracy on Test Set = 98.83 %\n",
            "Epoch 50: Training Cost = 3\n",
            "Epoch 50: Model Accuracy on Test Set = 98.56 %\n"
          ]
        }
      ]
    },
    {
      "cell_type": "code",
      "source": [
        "plt.plot(np.arange(1, n_epochs+1, 1), cost_train, marker=\".\", markersize=\"8\", label=\"Training Cost Function\", color=\"red\")\n",
        "plt.xlabel('Epochs', fontsize=15)\n",
        "plt.ylabel(\"Training Cost\", fontsize=15)\n",
        "plt.title('Training Cost Function', color=\"blue\")\n",
        "plt.grid(linestyle='--')\n",
        "plt.tight_layout()\n",
        "plt.legend()\n",
        "plt.show()"
      ],
      "metadata": {
        "colab": {
          "base_uri": "https://localhost:8080/",
          "height": 487
        },
        "id": "muaBkeKKEfsW",
        "outputId": "b3cb0c91-1f09-4dae-d77f-cbecb60e6913"
      },
      "execution_count": null,
      "outputs": [
        {
          "output_type": "display_data",
          "data": {
            "text/plain": [
              "<Figure size 640x480 with 1 Axes>"
            ],
            "image/png": "[encoded data removed]"
          },
          "metadata": {}
        }
      ]
    },
    {
      "cell_type": "code",
      "source": [
        "plt.plot(np.arange(1, n_epochs+1, 1), acc_test, marker=\".\", markersize=\"8\", label=\"Test Dataset Accuracy\", color=\"red\")\n",
        "plt.xlabel('Epochs', fontsize=15)\n",
        "plt.ylabel(\"Accuracy (in %)\", fontsize=15)\n",
        "plt.title('Test Dataset Accuracy', color=\"blue\")\n",
        "plt.grid(linestyle='--')\n",
        "plt.tight_layout()\n",
        "plt.legend()\n",
        "plt.show()"
      ],
      "metadata": {
        "colab": {
          "base_uri": "https://localhost:8080/",
          "height": 487
        },
        "id": "OBJXh3W2OWF1",
        "outputId": "84124302-f836-4c6c-a983-cfb3fcb5c884"
      },
      "execution_count": null,
      "outputs": [
        {
          "output_type": "display_data",
          "data": {
            "text/plain": [
              "<Figure size 640x480 with 1 Axes>"
            ],
            "image/png": "[encoded data removed]"
          },
          "metadata": {}
        }
      ]
    },
    {
      "cell_type": "code",
      "source": [
        "torch.save(model.state_dict(), './model.pth')"
      ],
      "metadata": {
        "id": "uKN-ZC_6UJ4o"
      },
      "execution_count": null,
      "outputs": []
    },
    {
      "cell_type": "code",
      "source": [
        "model = LeNet5()\n",
        "model.load_state_dict(torch.load('./model.pth'))"
      ],
      "metadata": {
        "id": "sVmXn4waWPKk",
        "colab": {
          "base_uri": "https://localhost:8080/"
        },
        "outputId": "35691f82-89d6-404a-aed0-e3fbbe7a4e97"
      },
      "execution_count": null,
      "outputs": [
        {
          "output_type": "execute_result",
          "data": {
            "text/plain": [
              "<All keys matched successfully>"
            ]
          },
          "metadata": {},
          "execution_count": 6
        }
      ]
    },
    {
      "cell_type": "markdown",
      "source": [
        "# **Prediction Section**"
      ],
      "metadata": {
        "id": "_OurXaBQc8te"
      }
    },
    {
      "cell_type": "code",
      "source": [
        "idx_pred = 24\n",
        "plt.imshow(test_data.data[idx_pred], cmap='gray')\n",
        "plt.title('y = %i' % test_data.targets[idx_pred])\n",
        "plt.show()\n",
        "x = test_data.data[idx_pred, :, :].type(torch.float32)\n",
        "x = x.expand(1, 1, 28, 28)\n",
        "y = test_data.targets[idx_pred]\n",
        "print(f\"The label of this image is y = {int(y)}\")\n",
        "z = model(x)\n",
        "_, yhat = torch.max(z.data, 1)\n",
        "yhat = int(yhat.numpy())\n",
        "print(f\"The model predicts yhat = {yhat}.\")"
      ],
      "metadata": {
        "colab": {
          "base_uri": "https://localhost:8080/",
          "height": 487
        },
        "id": "QSndkuHNUEIp",
        "outputId": "0ca3944f-a75e-4e2f-cbca-7af699818471"
      },
      "execution_count": null,
      "outputs": [
        {
          "output_type": "display_data",
          "data": {
            "text/plain": [
              "<Figure size 640x480 with 1 Axes>"
            ],
            "image/png": "[encoded data removed]"
          },
          "metadata": {}
        },
        {
          "output_type": "stream",
          "name": "stdout",
          "text": [
            "The label of this image is y = 4\n",
            "The model predicts yhat = 4.\n"
          ]
        }
      ]
    },
    {
      "cell_type": "code",
      "source": [
        "model_copy = LeNet5()\n",
        "model_copy.load_state_dict(torch.load('./model.pth'))"
      ],
      "metadata": {
        "id": "82I5qb2idM9w",
        "colab": {
          "base_uri": "https://localhost:8080/"
        },
        "outputId": "98376339-4153-4db0-ea3f-53dae28d4f04"
      },
      "execution_count": null,
      "outputs": [
        {
          "output_type": "execute_result",
          "data": {
            "text/plain": [
              "<All keys matched successfully>"
            ]
          },
          "metadata": {},
          "execution_count": 12
        }
      ]
    },
    {
      "cell_type": "code",
      "source": [
        "z_copy = model_copy(x)\n",
        "_, yhat_copy = torch.max(z_copy.data, 1)\n",
        "yhat_copy = int(yhat_copy.numpy())\n",
        "print(f\"The copied model predicts yhat = {yhat_copy}.\")"
      ],
      "metadata": {
        "colab": {
          "base_uri": "https://localhost:8080/"
        },
        "id": "zbrom-QVd3vJ",
        "outputId": "aa25346f-dc77-4b82-b5a0-c49c1d2fe541"
      },
      "execution_count": null,
      "outputs": [
        {
          "output_type": "stream",
          "name": "stdout",
          "text": [
            "The copied model predicts yhat = 4.\n"
          ]
        }
      ]
    },
    {
      "cell_type": "markdown",
      "source": [
        "# **Testing Real World Examples**"
      ],
      "metadata": {
        "id": "5e-jO_y5eP5Z"
      }
    },
    {
      "cell_type": "code",
      "source": [
        "!pip install streamlit -q"
      ],
      "metadata": {
        "colab": {
          "base_uri": "https://localhost:8080/"
        },
        "id": "hFQOaGBQI38v",
        "outputId": "3bf08215-638f-4692-f635-de0e5f8c9946"
      },
      "execution_count": null,
      "outputs": [
        {
          "output_type": "stream",
          "name": "stdout",
          "text": [
            "\u001b[2K     \u001b[90m━━━━━━━━━━━━━━━━━━━━━━━━━━━━━━━━━━━━━━━━\u001b[0m \u001b[32m8.9/8.9 MB\u001b[0m \u001b[31m52.9 MB/s\u001b[0m eta \u001b[36m0:00:00\u001b[0m\n",
            "\u001b[2K     \u001b[90m━━━━━━━━━━━━━━━━━━━━━━━━━━━━━━━━━━━━━━\u001b[0m \u001b[32m164.8/164.8 kB\u001b[0m \u001b[31m17.5 MB/s\u001b[0m eta \u001b[36m0:00:00\u001b[0m\n",
            "\u001b[?25h  Preparing metadata (setup.py) ... \u001b[?25l\u001b[?25hdone\n",
            "\u001b[2K     \u001b[90m━━━━━━━━━━━━━━━━━━━━━━━━━━━━━━━━━━━━━━\u001b[0m \u001b[32m184.3/184.3 kB\u001b[0m \u001b[31m14.8 MB/s\u001b[0m eta \u001b[36m0:00:00\u001b[0m\n",
            "\u001b[2K     \u001b[90m━━━━━━━━━━━━━━━━━━━━━━━━━━━━━━━━━━━━━━━━\u001b[0m \u001b[32m4.8/4.8 MB\u001b[0m \u001b[31m93.7 MB/s\u001b[0m eta \u001b[36m0:00:00\u001b[0m\n",
            "\u001b[2K     \u001b[90m━━━━━━━━━━━━━━━━━━━━━━━━━━━━━━━━━━━━━━━━\u001b[0m \u001b[32m82.1/82.1 kB\u001b[0m \u001b[31m9.5 MB/s\u001b[0m eta \u001b[36m0:00:00\u001b[0m\n",
            "\u001b[2K     \u001b[90m━━━━━━━━━━━━━━━━━━━━━━━━━━━━━━━━━━━━━━━━\u001b[0m \u001b[32m62.7/62.7 kB\u001b[0m \u001b[31m6.7 MB/s\u001b[0m eta \u001b[36m0:00:00\u001b[0m\n",
            "\u001b[?25h  Building wheel for validators (setup.py) ... \u001b[?25l\u001b[?25hdone\n"
          ]
        }
      ]
    },
    {
      "cell_type": "code",
      "source": [
        "%%writefile digit_classifier.py\n",
        "import streamlit as st\n",
        "import torch\n",
        "\n",
        "st.set_option('deprecation.showfileUploaderEncoding', False)\n",
        "@st.cache(allow_output_mutation=True)\n",
        "def load_model():\n",
        "  model = LeNet5()\n",
        "  model.load_state_dict(torch.load('./model.pth'))\n",
        "  return model\n",
        "\n",
        "model = load_model()\n",
        "st.write(\"\"\"\n",
        "        # Digit Classification\n",
        "        \"\"\"\n",
        "        )\n",
        "\n",
        "file = st.file_uploader(\"Please upload an image of a digit\", type=[\"jpg\", \"png\"])\n",
        "\n",
        "import torch.transforms as transforms\n",
        "def import_and_predict(img, model):\n",
        "  img_transform = transforms.Compose([transforms.Grayscale(), transforms.RandomInvert(p=1)])\n",
        "  img_new = img_transform(img)\n",
        "  img_new.show()\n",
        "  composed = transforms.Compose([transforms.Resize(28), transforms.ToTensor()])\n",
        "  img_t = composed(img_new)\n",
        "  img_t = img_t.type(torch.float32)\n",
        "  x = img_t.expand(1, 1, 28, 28)\n",
        "  z = model(x)\n",
        "  z = nn.Softmax(dim=1)(z)\n",
        "  p_max, yhat = torch.max(z.data, 1)\n",
        "  p = float(format(p_max.numpy()[0], '.4f'))*100\n",
        "  yhat = int(float(yhat.numpy()[0]))\n",
        "  string = f\"The model predicts the image as yhat = {yhat} with {p:.2f} % probability.\"\n",
        "  st.success(string)\n",
        "\n",
        "from PIL import Image\n",
        "if file is None:\n",
        "  st.text(\"Please upload an image file\")\n",
        "else:\n",
        "  image = Image.open(file)\n",
        "  st.image(image, use_column_width=True)\n",
        "  import_and_predict(image, model)"
      ],
      "metadata": {
        "colab": {
          "base_uri": "https://localhost:8080/"
        },
        "id": "UgfP_XmR-xbc",
        "outputId": "d175e7c0-0f1f-4d38-de6b-21bfcf00eeaa"
      },
      "execution_count": null,
      "outputs": [
        {
          "output_type": "stream",
          "name": "stdout",
          "text": [
            "Overwriting digit_classifier.py\n"
          ]
        }
      ]
    },
    {
      "cell_type": "code",
      "source": [
        "from io import BytesIO\n",
        "from google.colab import files\n",
        "from PIL import Image"
      ],
      "metadata": {
        "id": "nfH-_i7heXYP"
      },
      "execution_count": null,
      "outputs": []
    },
    {
      "cell_type": "code",
      "source": [
        "uploaded = files.upload()\n",
        "img = Image.open(BytesIO(uploaded['Image.jpg']))"
      ],
      "metadata": {
        "id": "LIgOgj9bhboX",
        "colab": {
          "base_uri": "https://localhost:8080/",
          "height": 73
        },
        "outputId": "e4fa6b13-46a4-4045-a264-92480abe8efa"
      },
      "execution_count": null,
      "outputs": [
        {
          "output_type": "display_data",
          "data": {
            "text/plain": [
              "<IPython.core.display.HTML object>"
            ],
            "text/html": [
              "\n",
              "     <input type=\"file\" id=\"files-25d116da-658c-4816-bfb4-5532deacfca2\" name=\"files[]\" multiple disabled\n",
              "        style=\"border:none\" />\n",
              "     <output id=\"result-25d116da-658c-4816-bfb4-5532deacfca2\">\n",
              "      Upload widget is only available when the cell has been executed in the\n",
              "      current browser session. Please rerun this cell to enable.\n",
              "      </output>\n",
              "      <script>// Copyright 2017 Google LLC\n",
              "//\n",
              "// Licensed under the Apache License, Version 2.0 (the \"License\");\n",
              "// you may not use this file except in compliance with the License.\n",
              "// You may obtain a copy of the License at\n",
              "//\n",
              "//      http://www.apache.org/licenses/LICENSE-2.0\n",
              "//\n",
              "// Unless required by applicable law or agreed to in writing, software\n",
              "// distributed under the License is distributed on an \"AS IS\" BASIS,\n",
              "// WITHOUT WARRANTIES OR CONDITIONS OF ANY KIND, either express or implied.\n",
              "// See the License for the specific language governing permissions and\n",
              "// limitations under the License.\n",
              "\n",
              "/**\n",
              " * @fileoverview Helpers for google.colab Python module.\n",
              " */\n",
              "(function(scope) {\n",
              "function span(text, styleAttributes = {}) {\n",
              "  const element = document.createElement('span');\n",
              "  element.textContent = text;\n",
              "  for (const key of Object.keys(styleAttributes)) {\n",
              "    element.style[key] = styleAttributes[key];\n",
              "  }\n",
              "  return element;\n",
              "}\n",
              "\n",
              "// Max number of bytes which will be uploaded at a time.\n",
              "const MAX_PAYLOAD_SIZE = 100 * 1024;\n",
              "\n",
              "function _uploadFiles(inputId, outputId) {\n",
              "  const steps = uploadFilesStep(inputId, outputId);\n",
              "  const outputElement = document.getElementById(outputId);\n",
              "  // Cache steps on the outputElement to make it available for the next call\n",
              "  // to uploadFilesContinue from Python.\n",
              "  outputElement.steps = steps;\n",
              "\n",
              "  return _uploadFilesContinue(outputId);\n",
              "}\n",
              "\n",
              "// This is roughly an async generator (not supported in the browser yet),\n",
              "// where there are multiple asynchronous steps and the Python side is going\n",
              "// to poll for completion of each step.\n",
              "// This uses a Promise to block the python side on completion of each step,\n",
              "// then passes the result of the previous step as the input to the next step.\n",
              "function _uploadFilesContinue(outputId) {\n",
              "  const outputElement = document.getElementById(outputId);\n",
              "  const steps = outputElement.steps;\n",
              "\n",
              "  const next = steps.next(outputElement.lastPromiseValue);\n",
              "  return Promise.resolve(next.value.promise).then((value) => {\n",
              "    // Cache the last promise value to make it available to the next\n",
              "    // step of the generator.\n",
              "    outputElement.lastPromiseValue = value;\n",
              "    return next.value.response;\n",
              "  });\n",
              "}\n",
              "\n",
              "/**\n",
              " * Generator function which is called between each async step of the upload\n",
              " * process.\n",
              " * @param {string} inputId Element ID of the input file picker element.\n",
              " * @param {string} outputId Element ID of the output display.\n",
              " * @return {!Iterable<!Object>} Iterable of next steps.\n",
              " */\n",
              "function* uploadFilesStep(inputId, outputId) {\n",
              "  const inputElement = document.getElementById(inputId);\n",
              "  inputElement.disabled = false;\n",
              "\n",
              "  const outputElement = document.getElementById(outputId);\n",
              "  outputElement.innerHTML = '';\n",
              "\n",
              "  const pickedPromise = new Promise((resolve) => {\n",
              "    inputElement.addEventListener('change', (e) => {\n",
              "      resolve(e.target.files);\n",
              "    });\n",
              "  });\n",
              "\n",
              "  const cancel = document.createElement('button');\n",
              "  inputElement.parentElement.appendChild(cancel);\n",
              "  cancel.textContent = 'Cancel upload';\n",
              "  const cancelPromise = new Promise((resolve) => {\n",
              "    cancel.onclick = () => {\n",
              "      resolve(null);\n",
              "    };\n",
              "  });\n",
              "\n",
              "  // Wait for the user to pick the files.\n",
              "  const files = yield {\n",
              "    promise: Promise.race([pickedPromise, cancelPromise]),\n",
              "    response: {\n",
              "      action: 'starting',\n",
              "    }\n",
              "  };\n",
              "\n",
              "  cancel.remove();\n",
              "\n",
              "  // Disable the input element since further picks are not allowed.\n",
              "  inputElement.disabled = true;\n",
              "\n",
              "  if (!files) {\n",
              "    return {\n",
              "      response: {\n",
              "        action: 'complete',\n",
              "      }\n",
              "    };\n",
              "  }\n",
              "\n",
              "  for (const file of files) {\n",
              "    const li = document.createElement('li');\n",
              "    li.append(span(file.name, {fontWeight: 'bold'}));\n",
              "    li.append(span(\n",
              "        `(${file.type || 'n/a'}) - ${file.size} bytes, ` +\n",
              "        `last modified: ${\n",
              "            file.lastModifiedDate ? file.lastModifiedDate.toLocaleDateString() :\n",
              "                                    'n/a'} - `));\n",
              "    const percent = span('0% done');\n",
              "    li.appendChild(percent);\n",
              "\n",
              "    outputElement.appendChild(li);\n",
              "\n",
              "    const fileDataPromise = new Promise((resolve) => {\n",
              "      const reader = new FileReader();\n",
              "      reader.onload = (e) => {\n",
              "        resolve(e.target.result);\n",
              "      };\n",
              "      reader.readAsArrayBuffer(file);\n",
              "    });\n",
              "    // Wait for the data to be ready.\n",
              "    let fileData = yield {\n",
              "      promise: fileDataPromise,\n",
              "      response: {\n",
              "        action: 'continue',\n",
              "      }\n",
              "    };\n",
              "\n",
              "    // Use a chunked sending to avoid message size limits. See b/62115660.\n",
              "    let position = 0;\n",
              "    do {\n",
              "      const length = Math.min(fileData.byteLength - position, MAX_PAYLOAD_SIZE);\n",
              "      const chunk = new Uint8Array(fileData, position, length);\n",
              "      position += length;\n",
              "\n",
              "      const base64 = btoa(String.fromCharCode.apply(null, chunk));\n",
              "      yield {\n",
              "        response: {\n",
              "          action: 'append',\n",
              "          file: file.name,\n",
              "          data: base64,\n",
              "        },\n",
              "      };\n",
              "\n",
              "      let percentDone = fileData.byteLength === 0 ?\n",
              "          100 :\n",
              "          Math.round((position / fileData.byteLength) * 100);\n",
              "      percent.textContent = `${percentDone}% done`;\n",
              "\n",
              "    } while (position < fileData.byteLength);\n",
              "  }\n",
              "\n",
              "  // All done.\n",
              "  yield {\n",
              "    response: {\n",
              "      action: 'complete',\n",
              "    }\n",
              "  };\n",
              "}\n",
              "\n",
              "scope.google = scope.google || {};\n",
              "scope.google.colab = scope.google.colab || {};\n",
              "scope.google.colab._files = {\n",
              "  _uploadFiles,\n",
              "  _uploadFilesContinue,\n",
              "};\n",
              "})(self);\n",
              "</script> "
            ]
          },
          "metadata": {}
        },
        {
          "output_type": "stream",
          "name": "stdout",
          "text": [
            "Saving Image.jpg to Image (1).jpg\n"
          ]
        }
      ]
    },
    {
      "cell_type": "code",
      "source": [
        "img_transform = transforms.Compose([transforms.Grayscale(), transforms.RandomInvert(p=1)])\n",
        "img_new = img_transform(img)\n",
        "img_new.show()"
      ],
      "metadata": {
        "id": "tQo6PyRFimy5",
        "colab": {
          "base_uri": "https://localhost:8080/",
          "height": 117
        },
        "outputId": "39dd2167-2f31-44e8-90f8-d3248d2fe154"
      },
      "execution_count": null,
      "outputs": [
        {
          "output_type": "display_data",
          "data": {
            "text/plain": [
              "<PIL.Image.Image image mode=L size=100x100 at 0x7F2950C9F430>"
            ],
            "image/png": "[encoded data removed]"
          },
          "metadata": {}
        }
      ]
    },
    {
      "cell_type": "code",
      "source": [
        "composed = transforms.Compose([transforms.Resize(28), transforms.ToTensor()])\n",
        "img_t = composed(img_new)\n",
        "img_t = img_t.type(torch.float32)\n",
        "x = img_t.expand(1, 1, 28, 28)"
      ],
      "metadata": {
        "id": "_ORco0Kbf3Em"
      },
      "execution_count": null,
      "outputs": []
    },
    {
      "cell_type": "code",
      "source": [
        "z = model(x)\n",
        "z = nn.Softmax(dim=1)(z)\n",
        "p_max, yhat = torch.max(z.data, 1)\n",
        "p = float(format(p_max.numpy()[0], '.4f'))*100\n",
        "yhat = int(float(yhat.numpy()[0]))\n",
        "# print(f\"As per the user, the given image is of y = {input}.\")\n",
        "print(f\"The model predicts the image as yhat = {yhat} with {p:.2f} % probability.\")"
      ],
      "metadata": {
        "colab": {
          "base_uri": "https://localhost:8080/"
        },
        "id": "QUJ-hzZ5emve",
        "outputId": "4381d9c2-714b-49d7-fe68-b53c5c7e6929"
      },
      "execution_count": null,
      "outputs": [
        {
          "output_type": "stream",
          "name": "stdout",
          "text": [
            "The model predicts the image as yhat = 1 with 99.81 % probability.\n"
          ]
        }
      ]
    }
  ]
}